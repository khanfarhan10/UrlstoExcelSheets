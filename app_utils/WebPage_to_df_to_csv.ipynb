{
  "nbformat": 4,
  "nbformat_minor": 0,
  "metadata": {
    "colab": {
      "name": "WebPage_to_df_to_csv.ipynb",
      "provenance": [],
      "collapsed_sections": []
    },
    "kernelspec": {
      "name": "python3",
      "display_name": "Python 3"
    }
  },
  "cells": [
    {
      "cell_type": "code",
      "metadata": {
        "id": "ahrGG2Z0q5p6",
        "colab_type": "code",
        "colab": {
          "base_uri": "https://localhost:8080/",
          "height": 322
        },
        "outputId": "81cf37fb-1f13-4279-bd76-0a8fe83cb75a"
      },
      "source": [
        "#for writing to excel(xlsx) we will be needing XlsxWriter, please install it first if you don't have it!\n",
        "try:\n",
        "  import XlsxWriter\n",
        "except ModuleNotFoundError:\n",
        "  print(\"XlsxWriter is not installed!!\")\n",
        "  get_ipython().system(\"pip install XlsxWriter\")\n",
        "      \n",
        "#to scrape a table from a webpage\n",
        "from urllib.parse import urlparse,urlsplit\n",
        "import requests\n",
        "import pandas as pd\n",
        "import os\n",
        "\n",
        "\n",
        "urls=[\"https://www.macrotrends.net/countries/IND/india/gdp-growth-rate\",\n",
        "      \"http://www.inwea.org/wind-energy-in-india/wind-power-potential\",\n",
        "      \"https://en.wikipedia.org/wiki/List_of_districts_in_India\",\n",
        "      \"https://en.wikipedia.org/wiki/List_of_Indian_people_by_net_worth\",\n",
        "      \"https://en.wikipedia.org/wiki/States_and_union_territories_of_India\",\n",
        "      \"https://en.wikipedia.org/wiki/List_of_governors-general_of_India\",\n",
        "      \"https://en.wikipedia.org/wiki/List_of_Indian_independence_activists\",\n",
        "      \"https://en.wikipedia.org/wiki/List_of_Indian_Grammy_Award_winners_and_nominees\",\n",
        "      \"https://en.wikipedia.org/wiki/List_of_Indian_Academy_Award_winners_and_nominees\",\n",
        "      \"https://en.wikipedia.org/wiki/List_of_highest-grossing_Indian_films\"\n",
        "      ]\n",
        "\n",
        "\n",
        "print(len(urls),\"Urls Found\")\n",
        "\n",
        "#convert the sheetname- remove _ and - , put title case and remove spaces\n",
        "def modify_name(my_str):\n",
        "  replaced=my_str.replace(\"_\", \" \").replace(\"-\", \" \")\n",
        "  return replaced.title().replace(\" \",\"\")\n",
        "\n",
        "\n",
        "#get all tables from a url\n",
        "def get_dataframes(url):\n",
        "  html = requests.get(url).content\n",
        "  df_list = pd.read_html(html)\n",
        "  #print(len(df_list),\" Dataframes Returned\")\n",
        "  return df_list\n",
        "\n",
        "#if df is too small then don't add it\n",
        "def filter_dfs(dfs_list,min_rows=10):\n",
        "  new_dfs_list=[]\n",
        "  for each_df in dfs_list:\n",
        "    if(len(each_df)>min_rows):\n",
        "      new_dfs_list.append(each_df)\n",
        "  return new_dfs_list\n",
        "\n",
        "#to avoid InvalidWorksheetName: Excel worksheet name 'StatesAndUnionTerritoriesOfIndia1' must be <= 31 chars.\n",
        "def crop_name(name,thres=29):\n",
        "  if len(name)<thres:\n",
        "    return name\n",
        "  else:\n",
        "    return name[:thres]\n",
        "\n",
        "#to get first n elements from list only\n",
        "def crop_list(lst,thres=29):\n",
        "  if len(lst)<thres:\n",
        "    return lst\n",
        "  else:\n",
        "    return lst[:thres]\n",
        "\n",
        "#converts urls to dataframes to excel sheets\n",
        "#get_max= get the maximum number of tables from each url\n",
        "#min_rows= the minimum number of rows in each table to save it to the excel sheet\n",
        "#crop_name_thres= some excel sheets can get quite huge sheet names which blows up the code\n",
        "#so crop the sheet name for the better purpose\n",
        "\n",
        "def urls_to_excel(urls,excel_path=None,get_max=10,min_rows=0,crop_name_thres=29):\n",
        "  excel_path=os.path.join(os.getcwd(),\"Excel_Multiple_Sheets_Output.xlsx\") if excel_path==None else excel_path\n",
        "  writer = pd.ExcelWriter(excel_path, engine='xlsxwriter')\n",
        "  i=0\n",
        "  for url in urls:\n",
        "    parsed=urlsplit(url)\n",
        "    sheet_name=parsed.path.split('/')[-1]\n",
        "    mod_sheet_name=crop_name(modify_name(sheet_name),thres=crop_name_thres)\n",
        "    \n",
        "    dfs_list=get_dataframes(url)\n",
        "    filtered_dfs_list=filter_dfs(dfs_list,min_rows=min_rows)\n",
        "    filtered_dfs_list=crop_list(filtered_dfs_list,thres=get_max)\n",
        "    for each_df in filtered_dfs_list:\n",
        "      print(\"Parsing Excel Sheet \",\" : \",str(i).zfill(2)+mod_sheet_name)\n",
        "      i+=1\n",
        "      each_df.to_excel(writer, sheet_name=str(i).zfill(2)+mod_sheet_name, index=True)\n",
        "  writer.save()\n",
        "urls_to_excel(urls,get_max=1,min_rows=10)\n"
      ],
      "execution_count": null,
      "outputs": [
        {
          "output_type": "stream",
          "text": [
            "XlsxWriter is not installed!!\n",
            "Collecting XlsxWriter\n",
            "\u001b[?25l  Downloading https://files.pythonhosted.org/packages/2b/98/17875723b6814fc4d0fc03f0997ee00de2dbd78cf195e2ec3f2c9c789d40/XlsxWriter-1.3.3-py2.py3-none-any.whl (144kB)\n",
            "\u001b[K     |████████████████████████████████| 153kB 2.8MB/s \n",
            "\u001b[?25hInstalling collected packages: XlsxWriter\n",
            "Successfully installed XlsxWriter-1.3.3\n",
            "10 Urls Found\n",
            "Parsing Excel Sheet   :  00GdpGrowthRate\n",
            "Parsing Excel Sheet   :  01WindPowerPotential\n",
            "Parsing Excel Sheet   :  02ListOfDistrictsInIndia\n",
            "Parsing Excel Sheet   :  03ListOfIndianPeopleByNetWorth\n",
            "Parsing Excel Sheet   :  04StatesAndUnionTerritoriesOfIn\n",
            "Parsing Excel Sheet   :  05ListOfGovernorsGeneralOfIndia\n",
            "Parsing Excel Sheet   :  06ListOfIndianIndependenceActiv\n",
            "Parsing Excel Sheet   :  07ListOfIndianGrammyAwardWinner\n",
            "Parsing Excel Sheet   :  08ListOfIndianAcademyAwardWinne\n",
            "Parsing Excel Sheet   :  09ListOfHighestGrossingIndianFi\n"
          ],
          "name": "stdout"
        }
      ]
    },
    {
      "cell_type": "code",
      "metadata": {
        "id": "qfUDxP3_rCO5",
        "colab_type": "code",
        "colab": {
          "base_uri": "https://localhost:8080/",
          "height": 185
        },
        "outputId": "10a0fb83-65e2-43cf-c01d-c629140f1e03"
      },
      "source": [
        "from xlrd import open_workbook\n",
        "import csv\n",
        "\n",
        "\n",
        "\n",
        "def excel_to_csv(excel_path,csv_dir):\n",
        "  wb = open_workbook(excel_path)\n",
        "  root_dir=csv_dir\n",
        "  for i in range(wb.nsheets):\n",
        "      sheet = wb.sheet_by_index(i)\n",
        "      out_file_name=root_dir+\"%s.csv\" %(sheet.name.replace(\" \",\"\"))\n",
        "      print (\"Parsing\",sheet.name, \" to : \",out_file_name)\n",
        "      with open(out_file_name, \"w\") as file:\n",
        "          writer = csv.writer(file, delimiter = \",\")\n",
        "          #print (sheet, sheet.name, sheet.ncols, sheet.nrows)\n",
        "          header = [cell.value for cell in sheet.row(0)]\n",
        "          writer.writerow(header)\n",
        "          for row_idx in range(1, sheet.nrows):\n",
        "              row = [int(cell.value) if isinstance(cell.value, float) else cell.value\n",
        "                    for cell in sheet.row(row_idx)]\n",
        "              writer.writerow(row)\n",
        "\n",
        "excel_to_csv(excel_path='/content/Excel_Multiple_Sheets_Output.xlsx',csv_dir='/content/')"
      ],
      "execution_count": null,
      "outputs": [
        {
          "output_type": "stream",
          "text": [
            "Parsing 01GdpGrowthRate  to :  /content/01GdpGrowthRate.csv\n",
            "Parsing 02WindPowerPotential  to :  /content/02WindPowerPotential.csv\n",
            "Parsing 03ListOfDistrictsInIndia  to :  /content/03ListOfDistrictsInIndia.csv\n",
            "Parsing 04ListOfIndianPeopleByNetWorth  to :  /content/04ListOfIndianPeopleByNetWorth.csv\n",
            "Parsing 05StatesAndUnionTerritoriesOfIn  to :  /content/05StatesAndUnionTerritoriesOfIn.csv\n",
            "Parsing 06ListOfGovernorsGeneralOfIndia  to :  /content/06ListOfGovernorsGeneralOfIndia.csv\n",
            "Parsing 07ListOfIndianIndependenceActiv  to :  /content/07ListOfIndianIndependenceActiv.csv\n",
            "Parsing 08ListOfIndianGrammyAwardWinner  to :  /content/08ListOfIndianGrammyAwardWinner.csv\n",
            "Parsing 09ListOfIndianAcademyAwardWinne  to :  /content/09ListOfIndianAcademyAwardWinne.csv\n",
            "Parsing 10ListOfHighestGrossingIndianFi  to :  /content/10ListOfHighestGrossingIndianFi.csv\n"
          ],
          "name": "stdout"
        }
      ]
    },
    {
      "cell_type": "code",
      "metadata": {
        "id": "lC9VUCIAr9oT",
        "colab_type": "code",
        "colab": {}
      },
      "source": [
        ""
      ],
      "execution_count": null,
      "outputs": []
    }
  ]
}